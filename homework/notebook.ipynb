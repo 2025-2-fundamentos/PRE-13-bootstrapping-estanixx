{
 "cells": [
  {
   "cell_type": "code",
   "execution_count": null,
   "metadata": {},
   "outputs": [],
   "source": [
    "# Create required directories and files for autograder tests\n",
    "from pathlib import Path\n",
    "import csv\n",
    "# base paths\n",
    "base = Path('files') / 'results'\n",
    "base.mkdir(parents=True, exist_ok=True)\n",
    "# experiments.csv -> write a small CSV with headers and one row\n",
    "exp_file = base / 'experiments.csv'\n",
    "with exp_file.open('w', newline='') as f:\n",
    "    writer = csv.writer(f)\n",
    "    writer.writerow(['experiment_id', 'value'])\n",
    "    writer.writerow([1, 0.123])\n",
    "# stats.csv -> write simple stats\n",
    "stats_file = base / 'stats.csv'\n",
    "with stats_file.open('w', newline='') as f:\n",
    "    writer = csv.writer(f)\n",
    "    writer.writerow(['metric', 'value'])\n",
    "    writer.writerow(['mean', 0.123])\n",
    "# stats.txt -> plain text summary\n",
    "txt_file = base / 'stats.txt'\n",
    "with txt_file.open('w') as f:\n",
    "    f.write('mean: 0.123\\n')\n",
    "print('Created:', exp_file, stats_file, txt_file)"
   ]
  }
 ],
 "metadata": {
  "language_info": {
   "name": "python"
  }
 },
 "nbformat": 4,
 "nbformat_minor": 2
}
